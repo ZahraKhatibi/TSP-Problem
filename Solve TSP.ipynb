{
 "cells": [
  {
   "cell_type": "markdown",
   "metadata": {},
   "source": [
    "## first let's read data from file"
   ]
  },
  {
   "cell_type": "code",
   "execution_count": 210,
   "metadata": {},
   "outputs": [],
   "source": [
    "f = open(\"bayg29.tsp\")\n",
    "m = f.read()\n",
    "m = m.split(\"\\n\")\n",
    "data = [[0 for _ in range(29)] for _ in range(29)]\n",
    "for i in range(0,29):\n",
    "    data[i] = m[i+8].split()"
   ]
  },
  {
   "cell_type": "markdown",
   "metadata": {},
   "source": [
    "## with available data, we make the adjacency matrix which store the distance of two city i,j in mat[i][j]"
   ]
  },
  {
   "cell_type": "code",
   "execution_count": 211,
   "metadata": {},
   "outputs": [],
   "source": [
    "mat = [[0 for _ in range(29)] for _ in range(29)]\n",
    "for i in range(0,28):\n",
    "    mat[i][i+1::] = data[i][0::]\n",
    "for i in range (0,29):\n",
    "    for j in range (0,29):\n",
    "        if(mat[i][j]==0):\n",
    "            mat[i][j]=mat[j][i]"
   ]
  },
  {
   "cell_type": "markdown",
   "metadata": {},
   "source": [
    "## make our generation with population 1000 of random  permutation arrays of numbers 0 to 28"
   ]
  },
  {
   "cell_type": "code",
   "execution_count": 212,
   "metadata": {},
   "outputs": [],
   "source": [
    "import more_itertools as mit\n",
    "random_size = 1000\n",
    "def population(random_size):\n",
    "    iterable = range(29)\n",
    "    random_population = []\n",
    "    for i in range(random_size): \n",
    "        random_population.append(tuple(mit.random_permutation(iterable)))\n",
    "    return random_population"
   ]
  },
  {
   "cell_type": "markdown",
   "metadata": {},
   "source": [
    "## here is definition of fitness function where calculate the circle weight"
   ]
  },
  {
   "cell_type": "code",
   "execution_count": 213,
   "metadata": {},
   "outputs": [],
   "source": [
    "def fitness(random_population):\n",
    "    weight = 0\n",
    "    weight_population = []\n",
    "    for i in random_population:\n",
    "        for j in range(28):\n",
    "            weight += int(mat[i[j]][i[j+1]])\n",
    "        weight+=int(mat[i[0]][i[28]])\n",
    "        weight_population.append(weight)\n",
    "        weight = 0\n",
    "    return weight_population"
   ]
  },
  {
   "cell_type": "markdown",
   "metadata": {},
   "source": [
    "## now we sort society based on fitness function"
   ]
  },
  {
   "cell_type": "code",
   "execution_count": 214,
   "metadata": {},
   "outputs": [],
   "source": [
    "import random\n",
    "def sort_fitness(random_population,weight_population):\n",
    "    dt = list(zip(random_population,weight_population))\n",
    "    res = sorted(dt, key = lambda x: x[1])\n",
    "    dt = list(zip(*res))\n",
    "    random_population , weight_population  = dt[0] , dt[1]\n",
    "    return random_population"
   ]
  },
  {
   "cell_type": "markdown",
   "metadata": {},
   "source": [
    "## after sorting,  we choose parents from our society. the parameter for choosing parents is 0.6. it means 60% of the  chromosomes selected as parents. this value tested many times and set since it has the best result among other parameters.\n",
    "### 50% of parent chromosomes selected from the best chromosomes.\n",
    "### 35% of parents selected from second 25% of society.\n",
    "### 10% of parents selected from third 25% of society.\n",
    "### 5% of parents selected from last 25% of society.\n",
    "### we select best sample on each level and replace them with parents"
   ]
  },
  {
   "cell_type": "code",
   "execution_count": 215,
   "metadata": {},
   "outputs": [],
   "source": [
    "import random\n",
    "def choose_parents(random_population,weight_population):\n",
    "    global p\n",
    "    p = 0.6\n",
    "    len_pop = len(random_population)\n",
    "    global parents_size\n",
    "    parents_size = int(p * random_size)\n",
    "    parents_sample = []\n",
    "    random_population = list(random_population)\n",
    "    parents_sample +=random.sample(random_population[0:1],1)\n",
    "    parents_sample += random.sample(random_population[0:len_pop//2],int(parents_size*50/100))\n",
    "    parents_sample += random.sample(random_population[len_pop//4:len_pop//2],int(parents_size*35/100))\n",
    "    parents_sample += random.sample(random_population[len_pop//2:3*len_pop//4],int(parents_size*10/100))\n",
    "    parents_sample += random.sample(random_population[3*len_pop//4:len_pop],int(parents_size*5/100)-1)   \n",
    "    return parents_sample\n"
   ]
  },
  {
   "cell_type": "markdown",
   "metadata": {},
   "source": [
    "## after chromosomes selecting we start producing children with order recombination method\n",
    "### next, make parents of 1.2 parents population. since 1.2 selected as the best parameter for this section.\n",
    "### first choose 2 sample out of parents as father and mother.\n",
    "### next choose 2 random number and transfer all numbers between them to child. then fill other number of child with mother"
   ]
  },
  {
   "cell_type": "code",
   "execution_count": 221,
   "metadata": {},
   "outputs": [],
   "source": [
    "from random import randint\n",
    "def choose_children(parents_sample):\n",
    "    global c \n",
    "    c = 1.2\n",
    "    global child_size \n",
    "    child_size = int(c * len(parents_sample))\n",
    "    children = []\n",
    "    for i in range(child_size):\n",
    "        random_child = random.sample(parents_sample,2)\n",
    "        mother = random_child[1]\n",
    "        father = random_child[0]\n",
    "        child = [0 for _ in range(29)]\n",
    "        f_number = randint(0, 28)\n",
    "        s_number = randint(0, 28)\n",
    "        s = min(f_number,s_number)\n",
    "        if s==f_number:\n",
    "            e = s_number\n",
    "        elif s==s_number:\n",
    "            e = f_number\n",
    "        child[s:e] = father[s:e]\n",
    "        index_m = e\n",
    "        index_c = e\n",
    "        while(child.count(0)>1):\n",
    "            if(mother[index_m] not in child):\n",
    "                child[index_c] = mother[index_m]\n",
    "                index_m = (index_m+1)%29\n",
    "                index_c = (index_c+1)%29\n",
    "            else:\n",
    "                index_m = (index_m+1)%29\n",
    "        children.append(child)\n",
    "    return children"
   ]
  },
  {
   "cell_type": "markdown",
   "metadata": {},
   "source": [
    "## now mutate 10% of children. how? first select 4random indexes. then change the numbers of that indexes."
   ]
  },
  {
   "cell_type": "code",
   "execution_count": 222,
   "metadata": {},
   "outputs": [],
   "source": [
    "import random\n",
    "from random import randint\n",
    "def mutation(children):\n",
    "    for i in range(0,child_size,10):\n",
    "        X = randint(0, 27)\n",
    "        Y = randint(0, 27)\n",
    "        Z = randint(0, 27)\n",
    "        W = randint(0, 27)\n",
    "        temp1, temp2= childre[i][X],childre[i][Y]\n",
    "        childre[i][X],childre[i][Y]= childre[i][(X+Z)%29],childre[i][(Y+W)%29]\n",
    "        childre[i][X],childre[i][Y] = temp1 , temp2\n",
    "    return children\n",
    "        "
   ]
  },
  {
   "cell_type": "markdown",
   "metadata": {},
   "source": [
    "## after children mutation we should upgrade our first generation. from tail of our array (which has the worst fitnesses) we split by the number of children and replace them "
   ]
  },
  {
   "cell_type": "code",
   "execution_count": 223,
   "metadata": {},
   "outputs": [],
   "source": [
    " def update_population(random_population,children):\n",
    "    len_c = len(children)\n",
    "    len_p = len(random_population)\n",
    "    random_population = list(random_population)\n",
    "    random_population[len_p-len_c:len_p] = list(children)\n",
    "    random_population = tuple(random_population)\n",
    "    return random_population"
   ]
  },
  {
   "cell_type": "markdown",
   "metadata": {},
   "source": [
    "## now we run our program.\n",
    "## we need just 150 generation and then print the best circle"
   ]
  },
  {
   "cell_type": "code",
   "execution_count": 224,
   "metadata": {},
   "outputs": [],
   "source": [
    "pop = population(random_size)\n",
    "min_weight = []\n",
    "mean_weight = []\n",
    "for i in range(150):\n",
    "    weight = fitness(pop)\n",
    "    pop = tuple(sort_fitness(pop,weight))\n",
    "    parent = choose_parents(pop,weight)\n",
    "    childre = choose_children(parent)\n",
    "    childre = mutation(childre)\n",
    "    new_pop = update_population(pop,childre)\n",
    "    new_weight = fitness(new_pop)\n",
    "    pop = new_pop\n",
    "    min_weight.append(min(new_weight))\n",
    "    mean_weight.append(int(sum(new_weight)/len(new_weight)))\n",
    "    "
   ]
  },
  {
   "cell_type": "code",
   "execution_count": 225,
   "metadata": {
    "scrolled": true
   },
   "outputs": [
    {
     "name": "stdout",
     "output_type": "stream",
     "text": [
      "Best cycle:  [18, 14, 10, 21, 16, 13, 17, 3, 9, 19, 1, 20, 4, 28, 2, 25, 8, 11, 5, 27, 0, 7, 23, 12, 15, 26, 22, 6, 24]\n",
      "fitness of best cycle:  1630\n"
     ]
    },
    {
     "data": {
      "image/png": "[encoded data removed]",
      "text/plain": [
       "<Figure size 432x288 with 1 Axes>"
      ]
     },
     "metadata": {
      "needs_background": "light"
     },
     "output_type": "display_data"
    }
   ],
   "source": [
    "import pandas as pd\n",
    "import matplotlib as plt\n",
    "data_fram = pd.DataFrame({'Mean':mean_weight, 'Minimum':min_weight})\n",
    "data_fram.plot()\n",
    "print(\"Best cycle: \", pop[0])\n",
    "print(\"fitness of best cycle: \", min_weight[-1])"
   ]
  },
  {
   "cell_type": "code",
   "execution_count": null,
   "metadata": {},
   "outputs": [],
   "source": []
  },
  {
   "cell_type": "code",
   "execution_count": null,
   "metadata": {},
   "outputs": [],
   "source": []
  },
  {
   "cell_type": "code",
   "execution_count": null,
   "metadata": {},
   "outputs": [],
   "source": []
  }
 ],
 "metadata": {
  "kernelspec": {
   "display_name": "Python 3",
   "language": "python",
   "name": "python3"
  },
  "language_info": {
   "codemirror_mode": {
    "name": "ipython",
    "version": 3
   },
   "file_extension": ".py",
   "mimetype": "text/x-python",
   "name": "python",
   "nbconvert_exporter": "python",
   "pygments_lexer": "ipython3",
   "version": "3.8.3"
  }
 },
 "nbformat": 4,
 "nbformat_minor": 4
}
